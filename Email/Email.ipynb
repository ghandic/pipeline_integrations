{
 "cells": [
  {
   "cell_type": "markdown",
   "metadata": {},
   "source": [
    "# Automatically sending emails"
   ]
  },
  {
   "cell_type": "markdown",
   "metadata": {},
   "source": [
    "### Necessary installs"
   ]
  },
  {
   "cell_type": "code",
   "execution_count": 1,
   "metadata": {},
   "outputs": [
    {
     "name": "stdout",
     "output_type": "stream",
     "text": [
      "Collecting python-box\n",
      "  Downloading python_box-3.1.1-py3-none-any.whl\n",
      "Installing collected packages: python-box\n",
      "Successfully installed python-box-3.1.1\n"
     ]
    }
   ],
   "source": [
    "!pip install python-box"
   ]
  },
  {
   "cell_type": "markdown",
   "metadata": {},
   "source": [
    "### Setting up the connection"
   ]
  },
  {
   "cell_type": "code",
   "execution_count": 2,
   "metadata": {},
   "outputs": [],
   "source": [
    "import os\n",
    "import smtplib\n",
    "from box import Box\n",
    "from email.mime.multipart import MIMEMultipart\n",
    "from email.mime.text import MIMEText\n",
    "import traceback\n",
    "\n",
    "with open('/home/jovyan/work/.email_pass','r') as f:\n",
    "    EMAIL_PASS = f.read()\n",
    "    \n",
    "EMAIL=Box({\n",
    "    \"ADDRESS\": 'andrewchallis@hotmail.co.uk',\n",
    "    \"PASSWORD\": EMAIL_PASS,\n",
    "})\n",
    "\n",
    "email_dist=['andrewchallis@hotmail.co.uk']"
   ]
  },
  {
   "cell_type": "markdown",
   "metadata": {},
   "source": [
    "### User defined functions"
   ]
  },
  {
   "cell_type": "code",
   "execution_count": 3,
   "metadata": {},
   "outputs": [],
   "source": [
    "def send_email(EMAIL, to, subject, body, btype='html'):\n",
    "    \"\"\"\n",
    "    \n",
    "    \"\"\"\n",
    "\n",
    "    try:\n",
    "        msg = MIMEMultipart()\n",
    "        msg['From'] = EMAIL.ADDRESS\n",
    "        msg['To'] = \", \".join(to)\n",
    "        msg['Subject'] = subject\n",
    "\n",
    "        msg_body = MIMEText(body, btype)\n",
    "        msg.attach(msg_body)\n",
    "\n",
    "        server = smtplib.SMTP('smtp.live.com',587)\n",
    "        server.ehlo()\n",
    "        server.starttls() \n",
    "        server.ehlo()\n",
    "        server.login(EMAIL.ADDRESS,EMAIL.PASSWORD)\n",
    "        server.set_debuglevel(1)\n",
    "        server.sendmail(EMAIL.ADDRESS, to, msg.as_string())\n",
    "        server.quit()\n",
    "\n",
    "        print('Email sent!')\n",
    "    except Exception as e:  \n",
    "        print('Something went wrong...')\n",
    "        print(str(e))\n",
    "\n",
    "\n",
    "def email_full_pipeline(models, EMAIL, email_dist):\n",
    "    \n",
    "    try:\n",
    "        for model in machine_learning_models:\n",
    "            print(\"I like \" + model + \" models\")\n",
    "        \n",
    "        send_email(EMAIL, to=email_dist, subject='PipeBot: Success',\n",
    "                   body='<h1 style=\"color:green;\">Congrats the pipeline finished!</h1>')\n",
    "\n",
    "    except:\n",
    "        error=traceback.format_exc()\n",
    "        \n",
    "        send_email(EMAIL, to=email_dist, subject='PipeBot: Failure',\n",
    "                   body='<h1 style=\"color:red;\">The pipeline failed!</h1><br>The exception was:<br>'+error)\n",
    "        raise SystemExit(\"Error! The Exception was \" + error)"
   ]
  },
  {
   "cell_type": "markdown",
   "metadata": {},
   "source": [
    "## Running a pipeline"
   ]
  },
  {
   "cell_type": "code",
   "execution_count": 4,
   "metadata": {},
   "outputs": [
    {
     "name": "stdout",
     "output_type": "stream",
     "text": [
      "I like Regression models\n"
     ]
    },
    {
     "name": "stderr",
     "output_type": "stream",
     "text": [
      "send: 'mail FROM:<andrewchallis@hotmail.co.uk> size=639\\r\\n'\n",
      "reply: b'250 2.1.0 Sender OK\\r\\n'\n",
      "reply: retcode (250); Msg: b'2.1.0 Sender OK'\n",
      "send: 'rcpt TO:<andrewchallis@hotmail.co.uk>\\r\\n'\n",
      "reply: b'250 2.1.5 Recipient OK\\r\\n'\n",
      "reply: retcode (250); Msg: b'2.1.5 Recipient OK'\n",
      "send: 'data\\r\\n'\n",
      "reply: b'354 Start mail input; end with <CRLF>.<CRLF>\\r\\n'\n",
      "reply: retcode (354); Msg: b'Start mail input; end with <CRLF>.<CRLF>'\n",
      "data: (354, b'Start mail input; end with <CRLF>.<CRLF>')\n",
      "send: b'Content-Type: multipart/mixed; boundary=\"===============2895870773836371866==\"\\r\\nMIME-Version: 1.0\\r\\nFrom: andrewchallis@hotmail.co.uk\\r\\nTo: andrewchallis@hotmail.co.uk\\r\\nSubject: PipeBot: Failure\\r\\n\\r\\n--===============2895870773836371866==\\r\\nContent-Type: text/html; charset=\"us-ascii\"\\r\\nMIME-Version: 1.0\\r\\nContent-Transfer-Encoding: 7bit\\r\\n\\r\\n<h1 style=\"color:red;\">The pipeline failed!</h1><br>The exception was:<br>Traceback (most recent call last):\\r\\n  File \"<ipython-input-3-d6a918b7dfdd>\", line 34, in email_full_pipeline\\r\\n    print(\"I like \" + model + \" models\")\\r\\nTypeError: must be str, not list\\r\\n\\r\\n--===============2895870773836371866==--\\r\\n.\\r\\n'\n"
     ]
    },
    {
     "name": "stdout",
     "output_type": "stream",
     "text": [
      "Email sent!\n"
     ]
    },
    {
     "name": "stderr",
     "output_type": "stream",
     "text": [
      "reply: b'250 2.0.0 OK <72490908-7806-4b2b-95cb-b3a3751f08a4@DB6PR0301MB2167.eurprd03.prod.outlook.com> [Hostname=DB6PR0301MB2167.eurprd03.prod.outlook.com]\\r\\n'\n",
      "reply: retcode (250); Msg: b'2.0.0 OK <72490908-7806-4b2b-95cb-b3a3751f08a4@DB6PR0301MB2167.eurprd03.prod.outlook.com> [Hostname=DB6PR0301MB2167.eurprd03.prod.outlook.com]'\n",
      "data: (250, b'2.0.0 OK <72490908-7806-4b2b-95cb-b3a3751f08a4@DB6PR0301MB2167.eurprd03.prod.outlook.com> [Hostname=DB6PR0301MB2167.eurprd03.prod.outlook.com]')\n",
      "send: 'quit\\r\\n'\n",
      "reply: b'221 2.0.0 Service closing transmission channel\\r\\n'\n",
      "reply: retcode (221); Msg: b'2.0.0 Service closing transmission channel'\n"
     ]
    },
    {
     "ename": "SystemExit",
     "evalue": "Error! The Exception was Traceback (most recent call last):\n  File \"<ipython-input-3-d6a918b7dfdd>\", line 34, in email_full_pipeline\n    print(\"I like \" + model + \" models\")\nTypeError: must be str, not list\n",
     "output_type": "error",
     "traceback": [
      "An exception has occurred, use %tb to see the full traceback.\n",
      "\u001b[0;31mSystemExit\u001b[0m\u001b[0;31m:\u001b[0m Error! The Exception was Traceback (most recent call last):\n  File \"<ipython-input-3-d6a918b7dfdd>\", line 34, in email_full_pipeline\n    print(\"I like \" + model + \" models\")\nTypeError: must be str, not list\n\n"
     ]
    },
    {
     "name": "stderr",
     "output_type": "stream",
     "text": [
      "/opt/conda/lib/python3.6/site-packages/IPython/core/interactiveshell.py:2918: UserWarning: To exit: use 'exit', 'quit', or Ctrl-D.\n",
      "  warn(\"To exit: use 'exit', 'quit', or Ctrl-D.\", stacklevel=1)\n"
     ]
    }
   ],
   "source": [
    "machine_learning_models = [\"Regression\", [\"Random Forest\"], \"SVM\"]\n",
    "\n",
    "email_full_pipeline(machine_learning_models, EMAIL, email_dist)"
   ]
  }
 ],
 "metadata": {
  "kernelspec": {
   "display_name": "Python 3",
   "language": "python",
   "name": "python3"
  },
  "language_info": {
   "codemirror_mode": {
    "name": "ipython",
    "version": 3
   },
   "file_extension": ".py",
   "mimetype": "text/x-python",
   "name": "python",
   "nbconvert_exporter": "python",
   "pygments_lexer": "ipython3",
   "version": "3.6.3"
  }
 },
 "nbformat": 4,
 "nbformat_minor": 2
}
