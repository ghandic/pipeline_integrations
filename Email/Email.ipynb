{
 "cells": [
  {
   "cell_type": "markdown",
   "metadata": {},
   "source": [
    "# Automatically sending emails"
   ]
  },
  {
   "cell_type": "markdown",
   "metadata": {},
   "source": [
    "### Necessary installs"
   ]
  },
  {
   "cell_type": "code",
   "execution_count": 1,
   "metadata": {},
   "outputs": [
    {
     "name": "stdout",
     "output_type": "stream",
     "text": [
      "Collecting python-box\n",
      "  Downloading python_box-3.1.1-py3-none-any.whl\n",
      "Installing collected packages: python-box\n",
      "Successfully installed python-box-3.1.1\n"
     ]
    }
   ],
   "source": [
    "!pip install python-box"
   ]
  },
  {
   "cell_type": "markdown",
   "metadata": {},
   "source": [
    "### Setting up the connection"
   ]
  },
  {
   "cell_type": "code",
   "execution_count": 36,
   "metadata": {},
   "outputs": [],
   "source": [
    "import os\n",
    "import smtplib\n",
    "from box import Box\n",
    "from email.mime.multipart import MIMEMultipart\n",
    "from email.mime.text import MIMEText\n",
    "\n",
    "with open('/home/jovyan/work/.email_pass','r') as f:\n",
    "    EMAIL_PASS = f.read()\n",
    "    \n",
    "EMAIL=Box({\n",
    "    \"ADDRESS\": 'andrewchallis@hotmail.co.uk',\n",
    "    \"PASSWORD\": EMAIL_PASS,\n",
    "})\n",
    "\n",
    "email_dist=['andrewchallis@hotmail.co.uk']"
   ]
  },
  {
   "cell_type": "markdown",
   "metadata": {},
   "source": [
    "### User defined functions"
   ]
  },
  {
   "cell_type": "code",
   "execution_count": 37,
   "metadata": {},
   "outputs": [],
   "source": [
    "def send_email(EMAIL, to, subject, body, btype='html'):\n",
    "    \"\"\"\n",
    "    \n",
    "    \"\"\"\n",
    "\n",
    "    try:\n",
    "        msg = MIMEMultipart()\n",
    "        msg['From'] = EMAIL.ADDRESS\n",
    "        msg['To'] = \", \".join(to)\n",
    "        msg['Subject'] = subject\n",
    "\n",
    "        msg_body = MIMEText(body, btype)\n",
    "        msg.attach(msg_body)\n",
    "\n",
    "        server = smtplib.SMTP('smtp.live.com',587)\n",
    "        server.ehlo()\n",
    "        server.starttls() \n",
    "        server.ehlo()\n",
    "        server.login(EMAIL.ADDRESS,EMAIL.PASSWORD)\n",
    "        server.set_debuglevel(1)\n",
    "        server.sendmail(EMAIL.ADDRESS, to, msg.as_string())\n",
    "        server.quit()\n",
    "\n",
    "        print('Email sent!')\n",
    "    except Exception as e:  \n",
    "        print('Something went wrong...')\n",
    "        print(str(e))\n",
    "\n",
    "\n",
    "def email_full_pipeline(models, EMAIL, email_dist):\n",
    "    \n",
    "    try:\n",
    "        for model in machine_learning_models:\n",
    "            print(\"I like \" + model + \" models\")\n",
    "        \n",
    "        send_email(EMAIL, to=email_dist, subject='PipeBot: Success',\n",
    "                   body='<h1 style=\"color:green;\">Congrats the pipeline finished!</h1>')\n",
    "\n",
    "    except Exception as e:\n",
    "        send_email(EMAIL, to=email_dist, subject='PipeBot: Failure',\n",
    "                   body='<h1 style=\"color:red;\">The pipeline failed!</h1><br>The exception was:<br>'+str(e))\n",
    "        raise SystemExit(\"Error! The Exception was \" + str(e))"
   ]
  },
  {
   "cell_type": "markdown",
   "metadata": {},
   "source": [
    "## Running a pipeline"
   ]
  },
  {
   "cell_type": "code",
   "execution_count": null,
   "metadata": {},
   "outputs": [],
   "source": [
    "machine_learning_models = [\"Regression\", \"Random Forest\", \"SVM\"]\n",
    "\n",
    "email_full_pipeline(machine_learning_models, EMAIL, email_dist)"
   ]
  }
 ],
 "metadata": {
  "kernelspec": {
   "display_name": "Python 3",
   "language": "python",
   "name": "python3"
  },
  "language_info": {
   "codemirror_mode": {
    "name": "ipython",
    "version": 3
   },
   "file_extension": ".py",
   "mimetype": "text/x-python",
   "name": "python",
   "nbconvert_exporter": "python",
   "pygments_lexer": "ipython3",
   "version": "3.6.3"
  }
 },
 "nbformat": 4,
 "nbformat_minor": 2
}
