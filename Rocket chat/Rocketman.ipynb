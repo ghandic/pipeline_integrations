{
 "cells": [
  {
   "cell_type": "markdown",
   "metadata": {},
   "source": [
    "# Automatically sending messages to Rocket chat"
   ]
  },
  {
   "cell_type": "markdown",
   "metadata": {},
   "source": [
    "### Necessary installs"
   ]
  },
  {
   "cell_type": "code",
   "execution_count": 5,
   "metadata": {},
   "outputs": [
    {
     "name": "stdout",
     "output_type": "stream",
     "text": [
      "Collecting rocket-python\n",
      "  Downloading rocket_python-1.2.4-py2.py3-none-any.whl\n",
      "Requirement already satisfied: requests<3.0,>=2.0.0 in /opt/conda/lib/python3.6/site-packages (from rocket-python)\n",
      "Requirement already satisfied: chardet<3.1.0,>=3.0.2 in /opt/conda/lib/python3.6/site-packages (from requests<3.0,>=2.0.0->rocket-python)\n",
      "Requirement already satisfied: idna<2.7,>=2.5 in /opt/conda/lib/python3.6/site-packages (from requests<3.0,>=2.0.0->rocket-python)\n",
      "Requirement already satisfied: urllib3<1.23,>=1.21.1 in /opt/conda/lib/python3.6/site-packages (from requests<3.0,>=2.0.0->rocket-python)\n",
      "Requirement already satisfied: certifi>=2017.4.17 in /opt/conda/lib/python3.6/site-packages (from requests<3.0,>=2.0.0->rocket-python)\n",
      "Installing collected packages: rocket-python\n",
      "Successfully installed rocket-python-1.2.4\n"
     ]
    }
   ],
   "source": [
    "!pip install rocket-python"
   ]
  },
  {
   "cell_type": "markdown",
   "metadata": {},
   "source": [
    "### Setting up the connection"
   ]
  },
  {
   "cell_type": "code",
   "execution_count": 6,
   "metadata": {},
   "outputs": [],
   "source": [
    "from rocketchat.api import RocketChatAPI\n",
    "import os\n",
    "import getpass\n",
    "\n",
    "ROCKET_USER='andy'\n",
    "ROCKET_PASS=getpass.getpass()\n",
    "\n",
    "rocket = RocketChatAPI(settings={'username': ROCKET_USER, 'password': ROCKET_PASS,\n",
    "                              'domain': 'http://' + os.environ['ROCKET_IP'] + ':3000'})"
   ]
  },
  {
   "cell_type": "markdown",
   "metadata": {},
   "source": [
    "### User defined functions"
   ]
  },
  {
   "cell_type": "code",
   "execution_count": 8,
   "metadata": {},
   "outputs": [],
   "source": [
    "def rocket_full_pipeline(models, group):\n",
    "    \n",
    "    try:\n",
    "        for model in machine_learning_models:\n",
    "            print(\"I like \" + model + \" models\")\n",
    "        \n",
    "        rocket.send_message('@all Data needs moving from Location A  Environment X to location B on Environment Y'\n",
    "                            ,group)\n",
    "\n",
    "    except Exception as e:\n",
    "        rocket.send_message('@all The pipeline needs to be re run as soon as possible! \\n\\n The Exception was *' + str(e) +'*'\n",
    "                            ,group)\n",
    "        raise SystemExit(\"Error! The Exception was \" + str(e))"
   ]
  },
  {
   "cell_type": "markdown",
   "metadata": {},
   "source": [
    "## Running a pipeline"
   ]
  },
  {
   "cell_type": "code",
   "execution_count": 10,
   "metadata": {},
   "outputs": [
    {
     "name": "stdout",
     "output_type": "stream",
     "text": [
      "I like Regression models\n",
      "I like Random Forest models\n",
      "I like SVM models\n"
     ]
    }
   ],
   "source": [
    "machine_learning_models = [\"Regression\", \"Random Forest\", \"SVM\"]\n",
    "\n",
    "rocket_full_pipeline(machine_learning_models, 'privatepipeline')"
   ]
  }
 ],
 "metadata": {
  "kernelspec": {
   "display_name": "Python 3",
   "language": "python",
   "name": "python3"
  },
  "language_info": {
   "codemirror_mode": {
    "name": "ipython",
    "version": 3
   },
   "file_extension": ".py",
   "mimetype": "text/x-python",
   "name": "python",
   "nbconvert_exporter": "python",
   "pygments_lexer": "ipython3",
   "version": "3.6.3"
  }
 },
 "nbformat": 4,
 "nbformat_minor": 2
}
