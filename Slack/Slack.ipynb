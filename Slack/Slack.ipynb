{
 "cells": [
  {
   "cell_type": "markdown",
   "metadata": {},
   "source": [
    "# Automatically sending messages to Slack"
   ]
  },
  {
   "cell_type": "markdown",
   "metadata": {},
   "source": [
    "### Necessary installs"
   ]
  },
  {
   "cell_type": "code",
   "execution_count": null,
   "metadata": {},
   "outputs": [],
   "source": [
    "!pip install slackclient"
   ]
  },
  {
   "cell_type": "markdown",
   "metadata": {},
   "source": [
    "### Setting up the connection to the API"
   ]
  },
  {
   "cell_type": "code",
   "execution_count": null,
   "metadata": {},
   "outputs": [],
   "source": [
    "from slackclient import SlackClient\n",
    "import getpass\n",
    "import os\n",
    "\n",
    "SLACK_BOT_TOKEN=getpass.getpass()\n",
    "slack_client = SlackClient(SLACK_BOT_TOKEN)"
   ]
  },
  {
   "cell_type": "markdown",
   "metadata": {},
   "source": [
    "### User defined functions for pipeline logging"
   ]
  },
  {
   "cell_type": "code",
   "execution_count": null,
   "metadata": {},
   "outputs": [],
   "source": [
    "def send_data_move(channel):\n",
    "    slack_client.api_call(\n",
    "      \"chat.postMessage\",\n",
    "      channel=channel,\n",
    "      text=\"@channel Will someone move the data?\"\n",
    "    )\n",
    "    \n",
    "def send_error(channel, error):\n",
    "    slack_client.api_call(\n",
    "      \"chat.postMessage\",\n",
    "      channel=channel,\n",
    "      text='@channel The pipeline failed! the exception was:\\n *'+error+'*'\n",
    "    )\n",
    "    \n",
    "def slack_full_pipeline(models, group):\n",
    "    \n",
    "    try:\n",
    "        for model in machine_learning_models:\n",
    "            print(\"I like \" + model + \" models\")\n",
    "        \n",
    "        send_data_move(group)\n",
    "\n",
    "    except Exception as e:\n",
    "        error=traceback.format_exc()\n",
    "        \n",
    "        send_error(group, error)\n",
    "        raise SystemExit(\"Error! The Exception was \" + error)"
   ]
  },
  {
   "cell_type": "markdown",
   "metadata": {},
   "source": [
    "## Running a pipeline"
   ]
  },
  {
   "cell_type": "code",
   "execution_count": null,
   "metadata": {},
   "outputs": [],
   "source": [
    "machine_learning_models = [\"Regression\", \"Random Forest\", \"SVM\"]\n",
    "slack_full_pipeline(machine_learning_models, '#demo')"
   ]
  }
 ],
 "metadata": {
  "kernelspec": {
   "display_name": "Python 3",
   "language": "python",
   "name": "python3"
  },
  "language_info": {
   "codemirror_mode": {
    "name": "ipython",
    "version": 3
   },
   "file_extension": ".py",
   "mimetype": "text/x-python",
   "name": "python",
   "nbconvert_exporter": "python",
   "pygments_lexer": "ipython3",
   "version": "3.6.3"
  }
 },
 "nbformat": 4,
 "nbformat_minor": 2
}
