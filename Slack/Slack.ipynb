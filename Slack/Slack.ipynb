{
 "cells": [
  {
   "cell_type": "markdown",
   "metadata": {},
   "source": [
    "# Automatically sending messages to Slack"
   ]
  },
  {
   "cell_type": "markdown",
   "metadata": {},
   "source": [
    "### Necessary installs"
   ]
  },
  {
   "cell_type": "code",
   "execution_count": null,
   "metadata": {},
   "outputs": [],
   "source": [
    "!pip install slackclient"
   ]
  },
  {
   "cell_type": "markdown",
   "metadata": {},
   "source": [
    "### Setting up the connection to the API"
   ]
  },
  {
   "cell_type": "code",
   "execution_count": null,
   "metadata": {},
   "outputs": [],
   "source": [
    "from slackclient import SlackClient\n",
    "import getpass\n",
    "import os\n",
    "\n",
    "SLACK_BOT_TOKEN=getpass.getpass()\n",
    "slack_client = SlackClient(SLACK_BOT_TOKEN)\n",
    "\n",
    "voting_json = [\n",
    "    {\n",
    "        \"fallback\": \"Upgrade your Slack client to use messages like these.\",\n",
    "        \"color\": \"#3AA3E3\",\n",
    "        \"attachment_type\": \"default\",\n",
    "        \"callback_id\": \"data_move_dacc\",\n",
    "        \"actions\": [\n",
    "                        {\n",
    "                            \"name\": \"yes\",\n",
    "                            \"text\": \"yes\",\n",
    "                            \"type\": \"button\",\n",
    "                            \"value\": \"yes\",\n",
    "                            \"style\": \"primary\"\n",
    "                        },\n",
    "                        {\n",
    "                            \"name\": \"no\",\n",
    "                            \"text\": \"no\",\n",
    "                            \"type\": \"button\",\n",
    "                            \"value\": \"no\",\n",
    "                            \"style\": \"danger\"\n",
    "                        }\n",
    "                    ]\n",
    "    }\n",
    "]"
   ]
  },
  {
   "cell_type": "markdown",
   "metadata": {},
   "source": [
    "### User defined functions for pipeline logging"
   ]
  },
  {
   "cell_type": "code",
   "execution_count": 10,
   "metadata": {},
   "outputs": [],
   "source": [
    "def send_data_move(channel):\n",
    "    slack_client.api_call(\n",
    "      \"chat.postMessage\",\n",
    "      channel=channel,\n",
    "      text=\"Will someone approve the data move?\",\n",
    "      attachments=voting_json\n",
    "    )\n",
    "    print(\"Data should have been moved\")\n",
    "    \n",
    "def send_error(channel, e):\n",
    "    slack_client.api_call(\n",
    "      \"chat.postMessage\",\n",
    "      channel=channel,\n",
    "      text='@channel The pipeline failed! the exception was:\\n *'+str(e)+'*'\n",
    "    )\n",
    "    \n",
    "def slack_full_pipeline(models, group):\n",
    "    \n",
    "    try:\n",
    "        for model in machine_learning_models:\n",
    "            print(\"I like \" + model + \" models\")\n",
    "        \n",
    "        send_data_move(group)\n",
    "\n",
    "    except Exception as e:\n",
    "        send_error(group, e)\n",
    "        raise SystemExit(\"Error! The Exception was \" + str(e))"
   ]
  },
  {
   "cell_type": "markdown",
   "metadata": {},
   "source": [
    "## Running a pipeline"
   ]
  },
  {
   "cell_type": "code",
   "execution_count": 11,
   "metadata": {},
   "outputs": [
    {
     "name": "stdout",
     "output_type": "stream",
     "text": [
      "I like Regression models\n",
      "I like Random Forest models\n",
      "I like SVM models\n",
      "Data should have been moved\n"
     ]
    }
   ],
   "source": [
    "machine_learning_models = [\"Regression\", \"Random Forest\", \"SVM\"]\n",
    "slack_full_pipeline(machine_learning_models, '#demo')"
   ]
  }
 ],
 "metadata": {
  "kernelspec": {
   "display_name": "Python 3",
   "language": "python",
   "name": "python3"
  },
  "language_info": {
   "codemirror_mode": {
    "name": "ipython",
    "version": 3
   },
   "file_extension": ".py",
   "mimetype": "text/x-python",
   "name": "python",
   "nbconvert_exporter": "python",
   "pygments_lexer": "ipython3",
   "version": "3.6.3"
  }
 },
 "nbformat": 4,
 "nbformat_minor": 2
}
