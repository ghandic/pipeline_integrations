{
 "cells": [
  {
   "cell_type": "markdown",
   "metadata": {},
   "source": [
    "# Automatically creating Jira tickets"
   ]
  },
  {
   "cell_type": "markdown",
   "metadata": {},
   "source": [
    "### Necessary installs"
   ]
  },
  {
   "cell_type": "code",
   "execution_count": null,
   "metadata": {},
   "outputs": [],
   "source": [
    "!pip install jira\n",
    "!pip install pbr"
   ]
  },
  {
   "cell_type": "markdown",
   "metadata": {},
   "source": [
    "### Setting up the connection to the API"
   ]
  },
  {
   "cell_type": "code",
   "execution_count": null,
   "metadata": {},
   "outputs": [],
   "source": [
    "import os\n",
    "from jira import JIRA\n",
    "import warnings\n",
    "import getpass\n",
    "import traceback\n",
    "\n",
    "warnings.filterwarnings('ignore')\n",
    "options = {\n",
    "    'server': 'http://' + os.environ['JIRA_IP'] + ':8080'\n",
    "}\n",
    "\n",
    "JIRA_USER='andy.challis'\n",
    "JIRA_PASS=getpass.getpass()\n",
    "\n",
    "jira = JIRA(options, basic_auth=(JIRA_USER, JIRA_PASS))\n",
    "\n",
    "JIRA_PROJECT_KEY='PIPE'\n",
    "JIRA_BOARD_NAME='PIPE board'"
   ]
  },
  {
   "cell_type": "markdown",
   "metadata": {},
   "source": [
    "### Adding comments to an issue"
   ]
  },
  {
   "cell_type": "code",
   "execution_count": null,
   "metadata": {},
   "outputs": [],
   "source": [
    "issue = jira.issue('PIPE-1')"
   ]
  },
  {
   "cell_type": "code",
   "execution_count": null,
   "metadata": {},
   "outputs": [],
   "source": [
    "jira.add_comment(issue, \"I've done it!\")"
   ]
  },
  {
   "cell_type": "markdown",
   "metadata": {},
   "source": [
    "### Creating an issue"
   ]
  },
  {
   "cell_type": "code",
   "execution_count": null,
   "metadata": {},
   "outputs": [],
   "source": [
    "issue_dict = {\n",
    "    'project': {'key': JIRA_PROJECT_KEY},\n",
    "    'summary': 'New issue from jira-python',\n",
    "    'description': 'Look into this one',\n",
    "    'issuetype': {'name': 'Task'},\n",
    "}\n",
    "new_issue = jira.create_issue(fields=issue_dict)"
   ]
  },
  {
   "cell_type": "markdown",
   "metadata": {},
   "source": [
    "### User defined functions for pipeline logging"
   ]
  },
  {
   "cell_type": "code",
   "execution_count": null,
   "metadata": {},
   "outputs": [],
   "source": [
    "def send_to_active_sprint(jira, issue_id):\n",
    "    \n",
    "    for board in jira.boards():\n",
    "        if board.name == JIRA_BOARD_NAME:\n",
    "            our_board_id = board.id\n",
    "    \n",
    "    for sprint in jira.sprints(our_board_id):\n",
    "        if jira.sprint_info(our_board_id, sprint.id).get('state') == 'ACTIVE':\n",
    "            current_sprint = sprint.id\n",
    "            \n",
    "    jira.add_issues_to_sprint(current_sprint, [issue_id])\n",
    "        \n",
    "\n",
    "def pipeline_complete(jira):\n",
    "    \n",
    "    issue_dict = {\n",
    "        'project': {'key': JIRA_PROJECT_KEY},\n",
    "        'summary': 'Pipeline complete',\n",
    "        'description': 'Data needs moving from Location A  Environment X to location B on Environment Y',\n",
    "        'issuetype': {'name': 'Task'},\n",
    "    }\n",
    "    issue = jira.create_issue(fields=issue_dict)\n",
    "    \n",
    "    send_to_active_sprint(jira, issue.key)\n",
    "        \n",
    "\n",
    "def pipeline_error(jira, error):\n",
    "    \n",
    "    issue_dict = {\n",
    "        'project': {'key': JIRA_PROJECT_KEY},\n",
    "        'summary': 'Pipeline Failed!',\n",
    "        'description': 'The pipeline needs to be re run as soon as possible! \\n\\n The Exception was ' + error,\n",
    "        'issuetype': {'name': 'Task'},\n",
    "    }\n",
    "    issue=jira.create_issue(fields=issue_dict)\n",
    "    \n",
    "    send_to_active_sprint(jira, issue.key)\n",
    "\n",
    "        \n",
    "def jira_full_pipeline(models, jira):\n",
    "    \n",
    "    try:\n",
    "        for model in machine_learning_models:\n",
    "            print(\"I like \" + model + \" models\")\n",
    "        \n",
    "        pipeline_complete(jira)\n",
    "\n",
    "    except:\n",
    "        error=traceback.format_exc()\n",
    "        pipeline_error(jira, error)\n",
    "        raise SystemExit(\"Error! The Exception was \" + error)"
   ]
  },
  {
   "cell_type": "markdown",
   "metadata": {},
   "source": [
    "## Running a pipeline"
   ]
  },
  {
   "cell_type": "code",
   "execution_count": null,
   "metadata": {},
   "outputs": [],
   "source": [
    "machine_learning_models = [\"Regression\", \"Random Forest\", \"SVM\"]\n",
    "jira_full_pipeline(machine_learning_models, jira)"
   ]
  }
 ],
 "metadata": {
  "kernelspec": {
   "display_name": "Python 3",
   "language": "python",
   "name": "python3"
  },
  "language_info": {
   "codemirror_mode": {
    "name": "ipython",
    "version": 3
   },
   "file_extension": ".py",
   "mimetype": "text/x-python",
   "name": "python",
   "nbconvert_exporter": "python",
   "pygments_lexer": "ipython3",
   "version": "3.6.3"
  }
 },
 "nbformat": 4,
 "nbformat_minor": 2
}
